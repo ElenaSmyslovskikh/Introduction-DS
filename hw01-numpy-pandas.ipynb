{
 "cells": [
  {
   "cell_type": "markdown",
   "metadata": {},
   "source": [
    "## Введение в анализ данных, ИАД-6\n",
    "\n",
    "## НИУ ВШЭ, 2019-20 учебный год"
   ]
  },
  {
   "cell_type": "markdown",
   "metadata": {},
   "source": [
    "### Домашнее задание №1"
   ]
  },
  {
   "cell_type": "markdown",
   "metadata": {},
   "source": [
    "Задание выполнил(а): Елена Смысловских"
   ]
  },
  {
   "cell_type": "markdown",
   "metadata": {},
   "source": [
    "### Общая информация"
   ]
  },
  {
   "cell_type": "markdown",
   "metadata": {},
   "source": [
    "__Дата выдачи:__ 06.02.2020\n",
    "\n",
    "__Дедлайн:__ 17.02.2020 23:59"
   ]
  },
  {
   "cell_type": "markdown",
   "metadata": {},
   "source": [
    "### О задании"
   ]
  },
  {
   "cell_type": "markdown",
   "metadata": {},
   "source": [
    "В этом домашнем задании вы попрактикуетесь в работе с библиотеками numpy, pandas и matplotlib."
   ]
  },
  {
   "cell_type": "markdown",
   "metadata": {},
   "source": [
    "### Оценивание и штрафы\n",
    "\n",
    "Каждая задача оценивается в 1 балл.\n",
    "\n",
    "Оценка за ДЗ вычисляется по следующей формуле:\n",
    "\n",
    "$$\n",
    "\\left(\\min(9, s_{\\text{numpy}}) + \\min(12, s_{\\text{pandas}}) + \\min(2, s_{\\text{matplotlib}})\\right) \\times 10 / 23,\n",
    "$$\n",
    "\n",
    "где $s_{\\text{numpy}}$, $s_{\\text{pandas}}$ и $s_{\\text{matplotlib}}$ — количество баллов, которое вы набрали за соответствующую часть. Задач больше, чем необходимо сделать для получения полного балла за ДЗ — вы можете сделать те, которые вам больше нравятся, или сделать все, чтобы дополнительно потренироваться. За каждые 2 задачи сверх обязательных (9 в первой части, 12 во второй и 2 в третьей) идет балл в бонус. Таким образом, за это домашнее задание можно получить 2 бонусных балла.\n",
    "\n",
    "За сдачу задания позже срока на итоговую оценку за задание накладывается штраф в размере 1 балл от оценки в день, но получить отрицательную оценку нельзя."
   ]
  },
  {
   "cell_type": "markdown",
   "metadata": {},
   "source": [
    "__Внимание!__ Домашнее задание выполняется самостоятельно. «Похожие» решения считаются плагиатом и все задействованные студенты (в том числе те, у кого списали) не могут получить за него больше 0 баллов."
   ]
  },
  {
   "cell_type": "markdown",
   "metadata": {},
   "source": [
    "### Формат сдачи"
   ]
  },
  {
   "cell_type": "markdown",
   "metadata": {},
   "source": [
    "Загрузка файлов с решениями происходит в системе [Anytask](https://anytask.org/)."
   ]
  },
  {
   "cell_type": "markdown",
   "metadata": {},
   "source": [
    "## Часть 1. Numpy\n",
    "\n",
    "Необходимое, но не достаточное условие для успешного выполнения этой части — вам необходимо пройти все `assert`'ы."
   ]
  },
  {
   "cell_type": "code",
   "execution_count": 2,
   "metadata": {},
   "outputs": [],
   "source": [
    "import numpy as np"
   ]
  },
  {
   "cell_type": "markdown",
   "metadata": {},
   "source": [
    "Во всех задачах необходимо написать код решения внутри функции и проверить его работу, вызвав функцию для данных из условия.\n",
    "\n",
    "При решении задач запрещается использовать циклы (`for`, `while`) и оператор `if`.\n",
    "\n",
    "Везде, где встречаются массивы или матрицы, подразумевается, что это `numpy.array`. "
   ]
  },
  {
   "cell_type": "markdown",
   "metadata": {},
   "source": [
    "### 1"
   ]
  },
  {
   "cell_type": "markdown",
   "metadata": {},
   "source": [
    "Напишите функцию, возвращающую округленную взвешенную сумму оценок по данным оценкам и весам. Можете посчитать свою оценку за курс :) В нашем случае вес экзамена равен 0.3, вес домашек - 0.4, вес контрольной - 0.2, вес проверочных - 0.1. Например, если за экзамен у вас 7, за домашки 10, за контрольную 8, а за самостоятельные 6, то вы получите отличную оценку 8!"
   ]
  },
  {
   "cell_type": "code",
   "execution_count": 30,
   "metadata": {},
   "outputs": [],
   "source": [
    "def result_mark(weights: np.array, marks: np.array) -> int:\n",
    "    a = np.array(weights * marks)\n",
    "    b = np.sum(a)\n",
    "    c = int(np.rint(b))\n",
    "    return c"
   ]
  },
  {
   "cell_type": "code",
   "execution_count": 31,
   "metadata": {},
   "outputs": [],
   "source": [
    "weights = np.array([0.3, 0.4, 0.2, 0.1])\n",
    "marks = np.array([7, 10, 8, 6])\n",
    "\n",
    "assert result_mark(weights, marks) == 8"
   ]
  },
  {
   "cell_type": "code",
   "execution_count": 32,
   "metadata": {},
   "outputs": [],
   "source": [
    "weights = np.array([0.3, 0.42, 0.14, 0.14])\n",
    "marks = np.array([7, 0, 8, 6])\n",
    "\n",
    "assert result_mark(weights, marks) == 4"
   ]
  },
  {
   "cell_type": "markdown",
   "metadata": {},
   "source": [
    "### 2"
   ]
  },
  {
   "cell_type": "markdown",
   "metadata": {},
   "source": [
    "Напишите функцию, которая принимает на вход два целочисленных массива одинаковой длины, и возвращает минимальный и максимальный из тех элементов этих двух массивов у которых совпадает и позиция и значение (то есть из всех элементов $\\{a[i]: a[i] = b[i]\\}$). Например, для `a = np.array([4, 2, 6, 3])` и `b = np.array([4, 3, 6, -3])` ответом является кортеж `(4, 6)`."
   ]
  },
  {
   "cell_type": "code",
   "execution_count": 141,
   "metadata": {},
   "outputs": [],
   "source": [
    "def minMaxEqual(a: np.array, b: np.array) -> tuple:\n",
    "    c = (a == b)\n",
    "    d = np.extract(c, b)\n",
    "    e = np.min(d)\n",
    "    f = np.max(d)\n",
    "    return (e,f)\n"
   ]
  },
  {
   "cell_type": "code",
   "execution_count": 142,
   "metadata": {},
   "outputs": [],
   "source": [
    "a = np.array([4, 2, 6, 3])\n",
    "b = np.array([4, 3, 6, -3])\n",
    "\n",
    "assert minMaxEqual(a, b) == (4, 6)"
   ]
  },
  {
   "cell_type": "code",
   "execution_count": 143,
   "metadata": {},
   "outputs": [],
   "source": [
    "a = np.array([0, 0, 0, 0, 0])\n",
    "b = np.array([0, 0, 0, 0, 0])\n",
    "\n",
    "assert minMaxEqual(a, b) == (0, 0)"
   ]
  },
  {
   "cell_type": "code",
   "execution_count": 144,
   "metadata": {},
   "outputs": [],
   "source": [
    "a = np.array([-1, -1, -1, 1, 0])\n",
    "b = np.array([1, -1, 1, 1, 0])\n",
    "\n",
    "assert minMaxEqual(a, b) == (-1, 1)"
   ]
  },
  {
   "cell_type": "markdown",
   "metadata": {},
   "source": [
    "### 3"
   ]
  },
  {
   "cell_type": "markdown",
   "metadata": {},
   "source": [
    "Напишите функцию, выдающую индексы «близких» элементов заданных массивов, а именно тех пар элементов, чей модуль разницы не превосходит заданного значения. Например, если на вход поступают массив `array([1.5, 0.5, 2, -4.1, -3, 6, -1])`, массив `array([1.2, 0.5, 1, -4, 3, 0, -1.2])` и число `0.5`, то на выходе должен получиться массив `array([0, 1, 3, 6])` (**важно: не `tuple`, а одномерный массив типа `numpy.ndarray` (то есть `.ndim` от него равно 1)!**)."
   ]
  },
  {
   "cell_type": "code",
   "execution_count": 210,
   "metadata": {},
   "outputs": [],
   "source": [
    "def find_close(array1: np.array, array2: np.array,\n",
    "               precision: float) -> np.array:\n",
    "    mod = (np.absolute(array1 - array2)) <= precision\n",
    "    d = np.nonzero(mod)\n",
    "    print(d)\n",
    "    d1 = np.ravel(d)\n",
    "    return d1"
   ]
  },
  {
   "cell_type": "code",
   "execution_count": 214,
   "metadata": {},
   "outputs": [
    {
     "name": "stdout",
     "output_type": "stream",
     "text": [
      "(array([0, 1, 3, 6], dtype=int64),)\n"
     ]
    }
   ],
   "source": [
    "array1 = np.array([1.5, 0.5, 2, -4.1, -3, 6, -1])\n",
    "array2 = np.array([1.2, 0.5, 1, -4.0,  3, 0, -1.2])\n",
    "precision = 0.5\n",
    "res = find_close(array1, array2, precision)\n",
    "\n",
    "assert res.ndim == 1\n",
    "assert np.allclose(res, np.array([0, 1, 3, 6]))"
   ]
  },
  {
   "cell_type": "code",
   "execution_count": 213,
   "metadata": {},
   "outputs": [
    {
     "name": "stdout",
     "output_type": "stream",
     "text": [
      "(array([1, 3], dtype=int64),)\n"
     ]
    }
   ],
   "source": [
    "array1 = np.array([3.1415, 2.7182, 1.6180, 6.6261])\n",
    "array2 = np.array([6.6730, 1.3807, -1,     6.0222])\n",
    "precision = 1.7\n",
    "res = find_close(array1, array2, precision)\n",
    "\n",
    "assert res.ndim == 1\n",
    "assert np.allclose(res, np.array([1, 3]))"
   ]
  },
  {
   "cell_type": "markdown",
   "metadata": {},
   "source": [
    "### 4"
   ]
  },
  {
   "cell_type": "markdown",
   "metadata": {},
   "source": [
    "Напишите функцию, которая составляет блочную матрицу из четырех блоков, где каждый блок - это заданная матрица. Например, если на вход поступает матрица\n",
    "$$\n",
    "\\begin{pmatrix}\n",
    "0 & 1 & 2\\\\\n",
    "3 & 4 & 5\\\\\n",
    "\\end{pmatrix},\n",
    "$$\n",
    "то ответом будет матрица\n",
    "$$\n",
    "\\begin{pmatrix}\n",
    "0 & 1 & 2 & 0 & 1 & 2\\\\\n",
    "3 & 4 & 5 & 3 & 4 & 5\\\\\n",
    "0 & 1 & 2 & 0 & 1 & 2\\\\\n",
    "3 & 4 & 5 & 3 & 4 & 5\\\\\n",
    "\\end{pmatrix}\n",
    "$$"
   ]
  },
  {
   "cell_type": "code",
   "execution_count": 225,
   "metadata": {},
   "outputs": [],
   "source": [
    "def block_matrix(block: np.array) -> np.array:\n",
    "    half = np.hstack((block, block))\n",
    "    matrix = np.vstack((half, half))\n",
    "    return matrix"
   ]
  },
  {
   "cell_type": "code",
   "execution_count": 226,
   "metadata": {},
   "outputs": [],
   "source": [
    "block = np.array([[1, 3, 3], [7, 0, 0]])\n",
    "\n",
    "assert np.allclose(\n",
    "    block_matrix(block),\n",
    "    np.array([[1, 3, 3, 1, 3, 3],\n",
    "              [7, 0, 0, 7, 0, 0],\n",
    "              [1, 3, 3, 1, 3, 3],\n",
    "              [7, 0, 0, 7, 0, 0]])\n",
    ")"
   ]
  },
  {
   "cell_type": "markdown",
   "metadata": {},
   "source": [
    "### 5"
   ]
  },
  {
   "cell_type": "markdown",
   "metadata": {},
   "source": [
    "Напишите функцию, вычисляющую произведение всех ненулевых диагональных элементов на диагонали данной квадратной матрицы. Например, если на вход поступает матрица\n",
    "$$\n",
    "\\begin{pmatrix}\n",
    "0 & 1 & 2\\\\\n",
    "3 & 4 & 5\\\\\n",
    "6 & 7 & 8\\\\\n",
    "\\end{pmatrix},\n",
    "$$\n",
    "то ответом будет 32.\n",
    "\n",
    "Элементы матрицы считать целочисленными."
   ]
  },
  {
   "cell_type": "code",
   "execution_count": 233,
   "metadata": {},
   "outputs": [],
   "source": [
    "def diag_prod(matrix: np.array):\n",
    "    diag = np.diagonal(matrix)\n",
    "    diag1 = np.extract(diag != 0, diag)\n",
    "    prod = diag1.prod()\n",
    "    return prod"
   ]
  },
  {
   "cell_type": "code",
   "execution_count": 234,
   "metadata": {},
   "outputs": [],
   "source": [
    "matrix = np.array([[0, 1, 2, 3],\n",
    "                   [4, 5, 6, 7],\n",
    "                   [8, 9, 10, 11],\n",
    "                   [12, 13, 14, 15]])\n",
    "\n",
    "assert diag_prod(matrix) == 750"
   ]
  },
  {
   "cell_type": "markdown",
   "metadata": {},
   "source": [
    "### 6"
   ]
  },
  {
   "cell_type": "markdown",
   "metadata": {},
   "source": [
    "Для улучшения качества работы некоторых алгоритмов машинного обучения может быть полезно использовать [нормализацию данных](https://vk.cc/8xmfQk), чтобы привести признаки в выборке к одному масштабу — а именно, из каждого столбца вычесть среднее его значений и поделить на их стандартное отклонение. Напишите функцию, нормализующую входящую матрицу (по столбцам). Например, если на вход подается матрица \n",
    "$$\n",
    "\\begin{pmatrix}\n",
    "1 & 4 & 4200\\\\\n",
    "0 & 10 & 5000\\\\\n",
    "1 & 2 & 1000\\\\\n",
    "\\end{pmatrix},\n",
    "$$\n",
    "то результатом с точностью до сотых будет матрица\n",
    "$$\n",
    "\\begin{pmatrix}\n",
    "0.71 & -0.39 & 0.46\\\\\n",
    "-1.41 & 1.37 & 0.93\\\\\n",
    "0.71 & -0.98 & -1.39\\\\\n",
    "\\end{pmatrix}\n",
    "$$\n",
    "Учтите, что в вашей матрице не должно получаться никаких nan. Подумайте, в каком случае они могут возникнуть и как обойти эту проблему.\n",
    "\n",
    "_Подсказка. Казалось бы, при чем тут деление на ноль._"
   ]
  },
  {
   "cell_type": "code",
   "execution_count": 241,
   "metadata": {},
   "outputs": [],
   "source": [
    "def normalize(matrix: np.array) -> np.array:\n",
    "    sd = np.std(matrix, axis = 0)\n",
    "    mean = np.mean(matrix, axis = 0)\n",
    "    cond = (sd != 0)\n",
    "    normatrix = np.where(cond,((matrix - mean)/sd), 0)\n",
    "    return normatrix"
   ]
  },
  {
   "cell_type": "code",
   "execution_count": 242,
   "metadata": {},
   "outputs": [],
   "source": [
    "matrix = np.array([[1, 4, 4200], [0, 10, 5000], [1, 2, 1000]])\n",
    "\n",
    "assert np.allclose(\n",
    "    normalize(matrix),\n",
    "    np.array([[ 0.7071, -0.39223,  0.46291],\n",
    "              [-1.4142,  1.37281,  0.92582],\n",
    "              [ 0.7071, -0.98058, -1.38873]])\n",
    ")"
   ]
  },
  {
   "cell_type": "code",
   "execution_count": 243,
   "metadata": {},
   "outputs": [],
   "source": [
    "matrix = np.array([[-7, 2, 42], [2, 10, 50], [5, 4, 10]])\n",
    "\n",
    "assert np.allclose(\n",
    "    normalize(matrix),\n",
    "    np.array([[-1.37281, -0.98058,  0.46291],\n",
    "              [ 0.39223,  1.37281,  0.92582],\n",
    "              [ 0.98058, -0.39223, -1.38873]])\n",
    ")"
   ]
  },
  {
   "cell_type": "markdown",
   "metadata": {},
   "source": [
    "### 7"
   ]
  },
  {
   "cell_type": "markdown",
   "metadata": {},
   "source": [
    "Напишите функцию, делающую данную [треугольную матрицу](https://ru.wikipedia.org/wiki/%D0%A2%D1%80%D0%B5%D1%83%D0%B3%D0%BE%D0%BB%D1%8C%D0%BD%D0%B0%D1%8F_%D0%BC%D0%B0%D1%82%D1%80%D0%B8%D1%86%D0%B0) симметричной. Например, если на вход поступает матрица\n",
    "$$\n",
    "\\begin{pmatrix}\n",
    "1 & 2 & 3 & 4\\\\\n",
    "0 & 5 & 6 & 7\\\\\n",
    "0 & 0 & 8 & 9\\\\\n",
    "0 & 0 & 0 & 10\\\\\n",
    "\\end{pmatrix},\n",
    "$$\n",
    "то на выходе должна быть матрица\n",
    "$$\n",
    "\\begin{pmatrix}\n",
    "1 & 2 & 3 & 4\\\\\n",
    "2 & 5 & 6 & 7\\\\\n",
    "3 & 6 & 8 & 9\\\\\n",
    "4 & 7 & 9 & 10\\\\\n",
    "\\end{pmatrix}.\n",
    "$$"
   ]
  },
  {
   "cell_type": "code",
   "execution_count": 254,
   "metadata": {},
   "outputs": [],
   "source": [
    "def make_symmetric(matrix: np.array) -> np.array:\n",
    "    matrix1 = matrix.T\n",
    "    diagonal = matrix.diagonal()\n",
    "    matrix2 = matrix + matrix1 - np.diag(diagonal)\n",
    "    return matrix2"
   ]
  },
  {
   "cell_type": "code",
   "execution_count": 255,
   "metadata": {},
   "outputs": [],
   "source": [
    "matrix = np.array([[1, 2, 3, 4], [0, 5, 6, 7], [0, 0, 8, 9], [0, 0, 0, 10]])\n",
    "\n",
    "assert np.allclose(\n",
    "    make_symmetric(matrix),\n",
    "    np.array([[ 1,  2,  3,  4],\n",
    "              [ 2,  5,  6,  7],\n",
    "              [ 3,  6,  8,  9],\n",
    "              [ 4,  7,  9, 10]])\n",
    ")"
   ]
  },
  {
   "cell_type": "code",
   "execution_count": 256,
   "metadata": {},
   "outputs": [],
   "source": [
    "matrix = np.array([[10, 21, 32, 49], [0, 53, 62, 78], [0, 0, 82, 92], [0, 0, 0, 10]])\n",
    "\n",
    "assert np.allclose(\n",
    "    make_symmetric(matrix),\n",
    "    np.array([[10, 21, 32, 49],\n",
    "              [21, 53, 62, 78],\n",
    "              [32, 62, 82, 92],\n",
    "              [49, 78, 92, 10]])\n",
    ")"
   ]
  },
  {
   "cell_type": "markdown",
   "metadata": {},
   "source": [
    "### 8"
   ]
  },
  {
   "cell_type": "markdown",
   "metadata": {},
   "source": [
    "Напишите функцию, создающую прямоугольную матрицу из m одинаковых строк, заполненных последовательными натуральными числами от a до b включительно в возрастающем порядке. Например, если m = 5, a = 3, b = 10, то на выходе будет матрица\n",
    "$$\n",
    "\\begin{pmatrix}\n",
    "3 & 4 & 5 & 6 & 7 & 8 & 9 & 10\\\\\n",
    "3 & 4 & 5 & 6 & 7 & 8 & 9 & 10\\\\\n",
    "3 & 4 & 5 & 6 & 7 & 8 & 9 & 10\\\\\n",
    "3 & 4 & 5 & 6 & 7 & 8 & 9 & 10\\\\\n",
    "3 & 4 & 5 & 6 & 7 & 8 & 9 & 10\\\\\n",
    "\\end{pmatrix}\n",
    "$$"
   ]
  },
  {
   "cell_type": "code",
   "execution_count": 265,
   "metadata": {},
   "outputs": [],
   "source": [
    "def construct_matrix(m: int, a: int, b: int) -> np.array:\n",
    "    block = np.arange(a,b+1)\n",
    "    matrix1 = np.tile(block, [m,1])\n",
    "    return matrix1"
   ]
  },
  {
   "cell_type": "code",
   "execution_count": 266,
   "metadata": {},
   "outputs": [],
   "source": [
    "m = 5\n",
    "a = 3\n",
    "b = 10\n",
    "\n",
    "assert np.allclose(\n",
    "    construct_matrix(m, a, b),\n",
    "    np.array([[ 3,  4,  5,  6,  7,  8,  9, 10],\n",
    "              [ 3,  4,  5,  6,  7,  8,  9, 10],\n",
    "              [ 3,  4,  5,  6,  7,  8,  9, 10],\n",
    "              [ 3,  4,  5,  6,  7,  8,  9, 10],\n",
    "              [ 3,  4,  5,  6,  7,  8,  9, 10]])\n",
    ")"
   ]
  },
  {
   "cell_type": "code",
   "execution_count": 267,
   "metadata": {},
   "outputs": [],
   "source": [
    "m = 3\n",
    "a = 2\n",
    "b = 6\n",
    "\n",
    "assert np.allclose(\n",
    "    construct_matrix(m, a, b),\n",
    "    np.array([[2, 3, 4, 5, 6],\n",
    "              [2, 3, 4, 5, 6],\n",
    "              [2, 3, 4, 5, 6]])\n",
    ")"
   ]
  },
  {
   "cell_type": "markdown",
   "metadata": {},
   "source": [
    "### 9"
   ]
  },
  {
   "cell_type": "markdown",
   "metadata": {},
   "source": [
    "Напишите функцию, вычисляющую [косинусную близость](https://en.wikipedia.org/wiki/Cosine_similarity) двух векторов. Например, если на вход поступают вектора `array([-2, 1, 0, -5, 4, 3, -3])` и `array([0, 2, -2, 10, 6, 0, 0])`, ответом будет -0.25."
   ]
  },
  {
   "cell_type": "code",
   "execution_count": 126,
   "metadata": {},
   "outputs": [],
   "source": [
    "def cosine_similarity(vec1: np.array, vec2: np.array) -> float:\n",
    "    s = np.dot(vec1, vec2)/np.linalg.norm(vec1)/np.linalg.norm(vec2)\n",
    "    return s"
   ]
  },
  {
   "cell_type": "code",
   "execution_count": 127,
   "metadata": {},
   "outputs": [],
   "source": [
    "vec1 = np.array([-2, 1,  0, -5, 4, 3, -3])\n",
    "vec2 = np.array([ 0, 2, -2, 10, 6, 0,  0])\n",
    "\n",
    "assert np.allclose(cosine_similarity(vec1, vec2), -0.25)"
   ]
  },
  {
   "cell_type": "code",
   "execution_count": 128,
   "metadata": {},
   "outputs": [],
   "source": [
    "vec1 = np.array([-4, 2,  9, -8, 9, 0, -2])\n",
    "vec2 = np.array([ 3, 2, -4, -1, 3, 2,  2])\n",
    "\n",
    "assert np.allclose(cosine_similarity(vec1, vec2), -0.119929)"
   ]
  },
  {
   "cell_type": "markdown",
   "metadata": {},
   "source": [
    "### 10"
   ]
  },
  {
   "cell_type": "markdown",
   "metadata": {},
   "source": [
    "Напишите функцию, которая принимает параметры `lims: ndarray размера 2`, `k: float`, `b: float`, `n: int`, `noise_level: float` и возвращает выборку из n объектов, сгенерированную по правилу `y_i = k*x_i + b + U[-noise_level; noise_level]`. Где каждый x_i генерируется равномерно из `U[lims[0]; lims[1]]` (U[a, b] — равномерное распределение на [a, b]). Функция должна возвращать кортеж, первым элементом которого будет массив x, и вторым элементом массив y — значения функции в точках этого массива."
   ]
  },
  {
   "cell_type": "code",
   "execution_count": 382,
   "metadata": {},
   "outputs": [],
   "source": [
    "def gen_data(lims: np.array, k: float, b: int, n: int, noise_level: float):\n",
    "    x = np.array(np.random.uniform(lims[0], lims[1], size = n))\n",
    "    u = np.array(np.random.uniform(-noise_level, noise_level, size = n))\n",
    "    y = k * x + u\n",
    "    return (x,y)"
   ]
  },
  {
   "cell_type": "code",
   "execution_count": 383,
   "metadata": {},
   "outputs": [
    {
     "data": {
      "text/plain": [
       "(array([-0.98249683,  0.18454195,  0.97974699, -0.89863497, -0.91320078,\n",
       "         0.11026342, -0.16544196,  0.08315937, -0.47580015, -0.3510198 ,\n",
       "        -0.15283149,  0.55847061,  0.66490061,  0.77290661, -0.75549366,\n",
       "         0.28559857,  0.70702856, -0.46678272, -0.67727681, -0.98598091]),\n",
       " array([-1.96265818,  0.46047062,  1.98705799, -1.89036772, -1.78858923,\n",
       "         0.23640415, -0.36400295,  0.24858023, -1.01738716, -0.63618846,\n",
       "        -0.22660838,  1.11822923,  1.35674613,  1.6059978 , -1.46137598,\n",
       "         0.65054282,  1.48412674, -0.89284267, -1.27205429, -1.94042167]))"
      ]
     },
     "execution_count": 383,
     "metadata": {},
     "output_type": "execute_result"
    }
   ],
   "source": [
    "# Выход должен выглядеть примерно так\n",
    "\n",
    "gen_data((-1, 1), 2, 0, 20,  1e-1)"
   ]
  },
  {
   "cell_type": "markdown",
   "metadata": {},
   "source": [
    "## Часть 2. Pandas"
   ]
  },
  {
   "cell_type": "code",
   "execution_count": 36,
   "metadata": {},
   "outputs": [],
   "source": [
    "import matplotlib.pyplot as plt\n",
    "import pandas as pd\n",
    "\n",
    "%matplotlib inline"
   ]
  },
  {
   "cell_type": "markdown",
   "metadata": {},
   "source": [
    "В этой части домашнего задания вы поработаете с данными о пассажирах с затонувшего «Титаника». Описание данных:\n",
    "\n",
    "https://www.kaggle.com/c/titanic/data\n",
    "\n",
    "Каждый построенный график необходимо красиво оформить - для этого требуется как минимум указать его название, а также отметить, что изображено по каждой из осей.\n",
    "\n",
    "*Функции, которые могут пригодиться при оформлении графиков: `.show()`, `.title()`, `.xlabel()`, `.ylabel()`*"
   ]
  },
  {
   "cell_type": "markdown",
   "metadata": {},
   "source": [
    "### 11"
   ]
  },
  {
   "cell_type": "markdown",
   "metadata": {},
   "source": [
    "Откройте в ноутбуке файл с данными (\"train.csv\"). Какой размер имеет таблица? Выведите первые 5 и последние 5 строк."
   ]
  },
  {
   "cell_type": "code",
   "execution_count": 252,
   "metadata": {
    "scrolled": true
   },
   "outputs": [
    {
     "name": "stdout",
     "output_type": "stream",
     "text": [
      "10692  - число элементов в таблице\n",
      "(891, 12) - размер таблицы\n",
      "   PassengerId  Survived  Pclass  \\\n",
      "0            1         0       3   \n",
      "1            2         1       1   \n",
      "2            3         1       3   \n",
      "3            4         1       1   \n",
      "4            5         0       3   \n",
      "\n",
      "                                                Name     Sex   Age  SibSp  \\\n",
      "0                            Braund, Mr. Owen Harris    male  22.0      1   \n",
      "1  Cumings, Mrs. John Bradley (Florence Briggs Th...  female  38.0      1   \n",
      "2                             Heikkinen, Miss. Laina  female  26.0      0   \n",
      "3       Futrelle, Mrs. Jacques Heath (Lily May Peel)  female  35.0      1   \n",
      "4                           Allen, Mr. William Henry    male  35.0      0   \n",
      "\n",
      "   Parch            Ticket     Fare Cabin Embarked  \n",
      "0      0         A/5 21171   7.2500   NaN        S  \n",
      "1      0          PC 17599  71.2833   C85        C  \n",
      "2      0  STON/O2. 3101282   7.9250   NaN        S  \n",
      "3      0            113803  53.1000  C123        S  \n",
      "4      0            373450   8.0500   NaN        S        PassengerId  Survived  Pclass                                      Name  \\\n",
      "886          887         0       2                     Montvila, Rev. Juozas   \n",
      "887          888         1       1              Graham, Miss. Margaret Edith   \n",
      "888          889         0       3  Johnston, Miss. Catherine Helen \"Carrie\"   \n",
      "889          890         1       1                     Behr, Mr. Karl Howell   \n",
      "890          891         0       3                       Dooley, Mr. Patrick   \n",
      "\n",
      "        Sex   Age  SibSp  Parch      Ticket   Fare Cabin Embarked  \n",
      "886    male  27.0      0      0      211536  13.00   NaN        S  \n",
      "887  female  19.0      0      0      112053  30.00   B42        S  \n",
      "888  female   NaN      1      2  W./C. 6607  23.45   NaN        S  \n",
      "889    male  26.0      0      0      111369  30.00  C148        C  \n",
      "890    male  32.0      0      0      370376   7.75   NaN        Q  \n",
      "Типы признаков: \n",
      "PassengerId      int64\n",
      "Survived         int64\n",
      "Pclass           int64\n",
      "Name            object\n",
      "Sex             object\n",
      "Age            float64\n",
      "SibSp            int64\n",
      "Parch            int64\n",
      "Ticket          object\n",
      "Fare           float64\n",
      "Cabin           object\n",
      "Embarked        object\n",
      "dtype: object\n"
     ]
    }
   ],
   "source": [
    "import os\n",
    "os.chdir('C:/Users/User/Dropbox/politfuck/2 курс/иад')\n",
    "df = pd.read_csv('train.csv')\n",
    "size = df.size\n",
    "shape = df.shape\n",
    "head = df.head(5)\n",
    "tail = df.tail(5)\n",
    "dtypes = df.dtypes # типы признаков\n",
    "print(size, ' - число элементов в таблице')\n",
    "print(shape, '- размер таблицы') # размер таблицы = 10692, 891 x 12\n",
    "print(head, tail)\n",
    "print('Типы признаков: ')\n",
    "print(dtypes)"
   ]
  },
  {
   "cell_type": "markdown",
   "metadata": {},
   "source": [
    "### 12"
   ]
  },
  {
   "cell_type": "markdown",
   "metadata": {},
   "source": [
    "Для каждого из признаков укажите его тип (вещественный, категориальный, порядковый, другое). Придумайте три задачи, которые можно было бы решать для данного датасета — задачу регрессии, задачу классификации и задачу кластеризации."
   ]
  },
  {
   "cell_type": "markdown",
   "metadata": {},
   "source": [
    "Вещественные: PassengerId, Survived, Pclass, SibSp, Parch (целочисленные) и Age, Fare. Категориальные: Name, Sex, Ticket, Cabin, Embarked.\n",
    "\n",
    "Задачи:\n",
    "\n",
    "1. Задача регрессии\n",
    "По цене билета (Fare) спрогнозируйте вероятность выживания (Survival) пассажира.\n",
    "\n",
    "2. Задача  классификации\n",
    "По цене билета (Fare) определите предполагаемый класс (Pclass), которым ехал пассажир.\n",
    "\n",
    "3. Задача кластеризации\n",
    "По данным о количестве родственников на борту (SibSp, Parch) сгруппируйте пассажиров по группам: путешествующие в одиночку, с 1 родственником, с 2 и более родственниками."
   ]
  },
  {
   "cell_type": "markdown",
   "metadata": {},
   "source": [
    "### 13"
   ]
  },
  {
   "cell_type": "markdown",
   "metadata": {},
   "source": [
    "Какова доля выживших после крушения пассажиров? Какова доля мужчин и женщин среди выживших?"
   ]
  },
  {
   "cell_type": "code",
   "execution_count": 253,
   "metadata": {},
   "outputs": [
    {
     "name": "stdout",
     "output_type": "stream",
     "text": [
      "0.38  - доля выживших пассажиров\n",
      "0.68  - доля женщин среди выживших, 0.32  - доля мужчин среди выживших\n"
     ]
    },
    {
     "name": "stderr",
     "output_type": "stream",
     "text": [
      "C:\\Users\\User\\Anaconda3\\lib\\site-packages\\ipykernel_launcher.py:5: UserWarning: Boolean Series key will be reindexed to match DataFrame index.\n",
      "  \"\"\"\n",
      "C:\\Users\\User\\Anaconda3\\lib\\site-packages\\ipykernel_launcher.py:6: UserWarning: Boolean Series key will be reindexed to match DataFrame index.\n",
      "  \n"
     ]
    }
   ],
   "source": [
    "surv = df[df['Survived'] == 1]\n",
    "allsurv = len(surv.index) - 1\n",
    "all = len(df.index) - 1\n",
    "sharesurv = np.round((allsurv / all), 2)\n",
    "fsurv = surv[df['Sex'] == 'female']\n",
    "msurv = surv[df['Sex'] == 'male']\n",
    "shfsurv = np.round((len(fsurv.index) / allsurv), 2)\n",
    "shmsurv = np.round((len(msurv.index) / allsurv), 2)\n",
    "print(sharesurv, ' - доля выживших пассажиров')\n",
    "print(shfsurv, ' - доля женщин среди выживших,', shmsurv, ' - доля мужчин среди выживших')"
   ]
  },
  {
   "cell_type": "markdown",
   "metadata": {},
   "source": [
    "### 14"
   ]
  },
  {
   "cell_type": "markdown",
   "metadata": {},
   "source": [
    "Сколько пассажиров ехало в каждом классе? Кого было больше в самом многолюдном классе — мужчин или женщин?"
   ]
  },
  {
   "cell_type": "code",
   "execution_count": 254,
   "metadata": {},
   "outputs": [
    {
     "name": "stdout",
     "output_type": "stream",
     "text": [
      "3    491\n",
      "1    216\n",
      "2    184\n",
      "Name: Pclass, dtype: int64\n",
      "Pclass  Sex   \n",
      "False   male      230\n",
      "        female    170\n",
      "True    male      347\n",
      "        female    144\n",
      "Name: Sex, dtype: int64\n",
      "Количество пассажиров по классам: Upper - 216 чел., Middle - 184 чел., Lower - 491 чел.\n",
      "В самом многолюдном классе было больше мужчин (347) по сравнению с женщинами (144).\n"
     ]
    }
   ],
   "source": [
    "cl = df['Pclass'].value_counts()\n",
    "pas = df.groupby(df['Pclass'] == 3)['Sex'].value_counts()\n",
    "print(cl)\n",
    "print(pas)\n",
    "print('Количество пассажиров по классам: Upper - 216 чел., Middle - 184 чел., Lower - 491 чел.')\n",
    "print('В самом многолюдном классе было больше мужчин (347) по сравнению с женщинами (144).')"
   ]
  },
  {
   "cell_type": "markdown",
   "metadata": {},
   "source": [
    "### 15"
   ]
  },
  {
   "cell_type": "markdown",
   "metadata": {},
   "source": [
    "Выведите минимальную, среднюю и максимальную сумму, которую заплатили пассажиры за проезд. Проделайте то же самое только для тех пассажиров, которые сели на корабль в Саутгемптоне. Выведите гистограммы, показывающие распределения стоимостей билетов в зависимости от места посадки."
   ]
  },
  {
   "cell_type": "code",
   "execution_count": 256,
   "metadata": {},
   "outputs": [
    {
     "name": "stdout",
     "output_type": "stream",
     "text": [
      "Оплата проезда: средняя -  32.2 $, минимальная -  0.0 $, максимальная -  512.33 $\n",
      "Оплата проезда пассажиров, которые сели на корабль в Саутгемптоне: средняя -  27.08 $, минимальная -  0.0 $, максимальная -  263.0 $\n",
      "[<matplotlib.axes._subplots.AxesSubplot object at 0x0000021630518B88>]\n",
      "[<matplotlib.axes._subplots.AxesSubplot object at 0x0000021630A13A08>]\n",
      "[<matplotlib.axes._subplots.AxesSubplot object at 0x000002163040D888>]\n"
     ]
    },
    {
     "data": {
      "image/png": "[encoded data removed]",
      "text/plain": [
       "<Figure size 432x288 with 1 Axes>"
      ]
     },
     "metadata": {
      "needs_background": "light"
     },
     "output_type": "display_data"
    },
    {
     "data": {
      "image/png": "[encoded data removed]",
      "text/plain": [
       "<Figure size 432x288 with 1 Axes>"
      ]
     },
     "metadata": {
      "needs_background": "light"
     },
     "output_type": "display_data"
    },
    {
     "data": {
      "image/png": "[encoded data removed]",
      "text/plain": [
       "<Figure size 432x288 with 1 Axes>"
      ]
     },
     "metadata": {
      "needs_background": "light"
     },
     "output_type": "display_data"
    }
   ],
   "source": [
    "a_all = np.round(df['Fare'].mean(), 2)\n",
    "b_all = np.round(df['Fare'].min(), 2)\n",
    "c_all = np.round(df['Fare'].max(), 2)\n",
    "print('Оплата проезда: средняя - ', a_all, '$, минимальная - ', b_all, '$, максимальная - ', c_all, '$')\n",
    "embs = df[df['Embarked'] ==  'S']\n",
    "a_s = np.round(embs['Fare'].mean(), 2)\n",
    "b_s = np.round(embs['Fare'].min(), 2)\n",
    "c_s = np.round(embs['Fare'].max(), 2)\n",
    "print('Оплата проезда пассажиров, которые сели на корабль в Саутгемптоне: средняя - ', a_s, '$, минимальная - ', b_s, '$, максимальная - ', c_s, '$')\n",
    "import matplotlib.pyplot as plt\n",
    "from matplotlib.ticker import StrMethodFormatter\n",
    "dfh = df[['Embarked','Fare']]\n",
    "rep = dfh.replace({'C':'Cherbourg','S':'Southampton', 'Q': 'Queenstown'})\n",
    "\n",
    "plt.figure()\n",
    "hist1 = rep[rep[\"Embarked\"]==\"Southampton\"].Fare.plot(kind='hist',\n",
    "                subplots=True,sharex=True,sharey=True,title='Southampton', color='#86bf91')\n",
    "plt.xlabel('Prices')\n",
    "plt.ylabel('Number of passangers')\n",
    "print(hist1)\n",
    "\n",
    "plt.figure()\n",
    "hist2 = rep[rep[\"Embarked\"]==\"Cherbourg\"].Fare.plot(kind='hist',\n",
    "                subplots=True,sharex=True,sharey=True,title='Cherbourg', color='#86bf91')\n",
    "plt.xlabel('Prices')\n",
    "plt.ylabel('Number of passangers')\n",
    "print(hist2)\n",
    "\n",
    "plt.figure()\n",
    "hist3 = rep[rep[\"Embarked\"]==\"Queenstown\"].Fare.plot(kind='hist',\n",
    "                subplots=True, sharex=True, sharey=True, \n",
    "                title='Queenstown', color='#86bf91')\n",
    "plt.xlabel('Prices')\n",
    "plt.ylabel('Number of passangers')\n",
    "print(hist3)"
   ]
  },
  {
   "cell_type": "markdown",
   "metadata": {},
   "source": [
    "### 16"
   ]
  },
  {
   "cell_type": "markdown",
   "metadata": {},
   "source": [
    "Все ли признаки несут в себе полезную информацию? Почему? Избавьтесь от ненужных столбцов."
   ]
  },
  {
   "cell_type": "code",
   "execution_count": 347,
   "metadata": {},
   "outputs": [
    {
     "name": "stdout",
     "output_type": "stream",
     "text": [
      "     Survived  Pclass                                               Name  \\\n",
      "0           0       3                            Braund, Mr. Owen Harris   \n",
      "1           1       1  Cumings, Mrs. John Bradley (Florence Briggs Th...   \n",
      "2           1       3                             Heikkinen, Miss. Laina   \n",
      "3           1       1       Futrelle, Mrs. Jacques Heath (Lily May Peel)   \n",
      "4           0       3                           Allen, Mr. William Henry   \n",
      "..        ...     ...                                                ...   \n",
      "886         0       2                              Montvila, Rev. Juozas   \n",
      "887         1       1                       Graham, Miss. Margaret Edith   \n",
      "888         0       3           Johnston, Miss. Catherine Helen \"Carrie\"   \n",
      "889         1       1                              Behr, Mr. Karl Howell   \n",
      "890         0       3                                Dooley, Mr. Patrick   \n",
      "\n",
      "        Sex   Age  SibSp  Parch  Family  young1cl     Fare Cabin Embarked  \n",
      "0      male  22.0      1      0       2     False   7.2500    Na        S  \n",
      "1    female  38.0      1      0       2     False  71.2833   C85        C  \n",
      "2    female  26.0      0      0       1     False   7.9250    Na        S  \n",
      "3    female  35.0      1      0       2     False  53.1000  C123        S  \n",
      "4      male  35.0      0      0       1     False   8.0500    Na        S  \n",
      "..      ...   ...    ...    ...     ...       ...      ...   ...      ...  \n",
      "886    male  27.0      0      0       1     False  13.0000    Na        S  \n",
      "887  female  19.0      0      0       1      True  30.0000   B42        S  \n",
      "888  female  28.0      1      2       4     False  23.4500    Na        S  \n",
      "889    male  26.0      0      0       1      True  30.0000  C148        C  \n",
      "890    male  32.0      0      0       1     False   7.7500    Na        Q  \n",
      "\n",
      "[891 rows x 12 columns]\n"
     ]
    }
   ],
   "source": [
    "del df['PassengerId']\n",
    "del df['Ticket']\n",
    "print(df)"
   ]
  },
  {
   "cell_type": "markdown",
   "metadata": {},
   "source": [
    "### 17"
   ]
  },
  {
   "cell_type": "markdown",
   "metadata": {},
   "source": [
    "Есть ли в данных пропуски? Если да, то в каких столбцах? Сколько пропусков в каждом из них?"
   ]
  },
  {
   "cell_type": "code",
   "execution_count": 257,
   "metadata": {},
   "outputs": [
    {
     "name": "stdout",
     "output_type": "stream",
     "text": [
      "PassengerId      0\n",
      "Survived         0\n",
      "Pclass           0\n",
      "Name             0\n",
      "Sex              0\n",
      "Age            177\n",
      "SibSp            0\n",
      "Parch            0\n",
      "Ticket           0\n",
      "Fare             0\n",
      "Cabin          687\n",
      "Embarked         2\n",
      "dtype: int64\n",
      "Пропуски есть в столбцах Age (177), Cabin (687) и Embarked (2).\n"
     ]
    }
   ],
   "source": [
    "null = pd.isnull(df).sum()\n",
    "print(null)\n",
    "print('Пропуски есть в столбцах Age (177), Cabin (687) и Embarked (2).')"
   ]
  },
  {
   "cell_type": "markdown",
   "metadata": {},
   "source": [
    "### 18"
   ]
  },
  {
   "cell_type": "markdown",
   "metadata": {},
   "source": [
    "Подумайте, как стоит заполнить пропуски в каждом столбце в зависимости от его типа, и сделайте это. Проверьте, что пропусков нигде не осталось."
   ]
  },
  {
   "cell_type": "code",
   "execution_count": 274,
   "metadata": {},
   "outputs": [
    {
     "name": "stdout",
     "output_type": "stream",
     "text": [
      "28.0\n",
      "PassengerId    0\n",
      "Survived       0\n",
      "Pclass         0\n",
      "Name           0\n",
      "Sex            0\n",
      "Age            0\n",
      "SibSp          0\n",
      "Parch          0\n",
      "Ticket         0\n",
      "Fare           0\n",
      "Cabin          0\n",
      "Embarked       0\n",
      "dtype: int64\n"
     ]
    }
   ],
   "source": [
    "med = df['Age'].median()\n",
    "print(med) # медианный возраст -- 28 лет\n",
    "df['Age'].fillna(med, inplace = True) # возраст можно заменить на медианный возраст всех пассажиров\n",
    "df['Cabin'].fillna('Na', inplace = True)\n",
    "df['Embarked'].fillna('Na', inplace = True)\n",
    "res = pd.isnull(df).sum() # проверяем, есть ли пропуски\n",
    "print(res)"
   ]
  },
  {
   "cell_type": "markdown",
   "metadata": {},
   "source": [
    "### 19"
   ]
  },
  {
   "cell_type": "markdown",
   "metadata": {},
   "source": [
    "Посчитайте, насколько сильно коррелируют друг с другом цена за билет и возраст пассажиров. Также проверьте наличие этой зависимости визуально (в этом вам поможет построение [диаграммы рассеяния](https://ru.wikipedia.org/wiki/%D0%94%D0%B8%D0%B0%D0%B3%D1%80%D0%B0%D0%BC%D0%BC%D0%B0_%D1%80%D0%B0%D1%81%D1%81%D0%B5%D1%8F%D0%BD%D0%B8%D1%8F))."
   ]
  },
  {
   "cell_type": "code",
   "execution_count": 282,
   "metadata": {},
   "outputs": [
    {
     "name": "stdout",
     "output_type": "stream",
     "text": [
      "          Fare       Age\n",
      "Fare  1.000000  0.096688\n",
      "Age   0.096688  1.000000\n",
      "Корреляция 0.096, т.е. зависимость очень слабая.\n",
      "AxesSubplot(0.125,0.125;0.775x0.755)\n"
     ]
    },
    {
     "data": {
      "image/png": "[encoded data removed]",
      "text/plain": [
       "<Figure size 432x288 with 1 Axes>"
      ]
     },
     "metadata": {
      "needs_background": "light"
     },
     "output_type": "display_data"
    }
   ],
   "source": [
    "datacorr1 = df[['Fare', 'Age']]\n",
    "correlation1 = datacorr1.corr(method = 'pearson')\n",
    "print(correlation1) \n",
    "print('Корреляция 0.096, т.е. зависимость очень слабая.')\n",
    "plotcorr1 = df.plot.scatter(x='Age', y='Fare', c='#86bf91')\n",
    "print(plotcorr1)"
   ]
  },
  {
   "cell_type": "markdown",
   "metadata": {},
   "source": [
    "### 20"
   ]
  },
  {
   "cell_type": "markdown",
   "metadata": {},
   "source": [
    "Правда ли, что чаще выживали пассажиры с более дорогими билетами? А есть ли зависимость выживаемости от класса? А от места посадки?"
   ]
  },
  {
   "cell_type": "code",
   "execution_count": 313,
   "metadata": {},
   "outputs": [
    {
     "name": "stdout",
     "output_type": "stream",
     "text": [
      "              Fare  Survived\n",
      "Fare      1.000000  0.257307\n",
      "Survived  0.257307  1.000000\n",
      "Зависимость выживаемости от цены билета положительная, но очень слабая (0.26)\n",
      "        count      mean       std  min  25%  50%  75%  max\n",
      "Pclass                                                    \n",
      "1       216.0  0.629630  0.484026  0.0  0.0  1.0  1.0  1.0\n",
      "2       184.0  0.472826  0.500623  0.0  0.0  0.0  1.0  1.0\n",
      "3       491.0  0.242363  0.428949  0.0  0.0  0.0  0.0  1.0\n",
      "            Pclass  Survived\n",
      "Pclass    1.000000 -0.338481\n",
      "Survived -0.338481  1.000000\n",
      "Зависимость выживаемости от класса отрицательная, но слабая (- 0.33). Исходя из разбиения по группам, видно, что среди пассажиров 1-го класса среднее по выживаемости = 0.62, что значительно выше, чем у 2-го класса (0.47) и у 3-го класса (0.24).\n",
      "          Survived\n",
      "Survived       1.0\n",
      "          count      mean       std  min  25%  50%  75%  max\n",
      "Embarked                                                    \n",
      "C         168.0  0.553571  0.498608  0.0  0.0  1.0  1.0  1.0\n",
      "Na          2.0  1.000000  0.000000  1.0  1.0  1.0  1.0  1.0\n",
      "Q          77.0  0.389610  0.490860  0.0  0.0  0.0  1.0  1.0\n",
      "S         644.0  0.336957  0.473037  0.0  0.0  0.0  1.0  1.0\n",
      "Зависимость выживаемости от места посадки: пассажиры, севшие в Cherbourg, выживали с верояностью 0.55, что превышает вероятности пассажиров, севших в Queenstown (0.39) и Southampton (0.37).\n"
     ]
    }
   ],
   "source": [
    "datacorr2 = df[['Fare', 'Survived']]\n",
    "correlation2 = datacorr2.corr(method = 'pearson')\n",
    "print(correlation2) \n",
    "print('Зависимость выживаемости от цены билета положительная, но очень слабая (0.26)')\n",
    "datacorr3 = df[['Pclass', 'Survived']]\n",
    "correlation3 = datacorr3.corr(method = 'pearson')\n",
    "groupby3 = datacorr3.groupby('Pclass')['Survived'].describe()\n",
    "print(groupby3)\n",
    "print(correlation3) \n",
    "print('Зависимость выживаемости от класса отрицательная, но слабая (- 0.33). Исходя из разбиения по группам, видно, что среди пассажиров 1-го класса среднее по выживаемости = 0.62, что значительно выше, чем у 2-го класса (0.47) и у 3-го класса (0.24).')\n",
    "datacorr4 = df[['Embarked', 'Survived']]\n",
    "correlation4 = datacorr4.corr(method = 'pearson')\n",
    "print(correlation4)\n",
    "groupby4 = datacorr4.groupby('Embarked')['Survived'].describe()\n",
    "print(groupby4)\n",
    "print('Зависимость выживаемости от места посадки: пассажиры, севшие в Cherbourg, выживали с верояностью 0.55, что превышает вероятности пассажиров, севших в Queenstown (0.39) и Southampton (0.37).')"
   ]
  },
  {
   "cell_type": "markdown",
   "metadata": {},
   "source": [
    "### 21"
   ]
  },
  {
   "cell_type": "markdown",
   "metadata": {},
   "source": [
    "Создание новых признаков (feature engineering) является одним из основных средств улучшения качества работы алгоритмов машинного обучения на этапе обработки данных. Добавьте в таблицу столбец, который будет показывать, сколько родных плыло вместе с пассажиром на корабле, включая его самого. Затем придумайте свой признак, который может быть полезен для алгоритма (несет в себе какую-то информацию), и добавьте его в таблицу."
   ]
  },
  {
   "cell_type": "code",
   "execution_count": 339,
   "metadata": {},
   "outputs": [
    {
     "name": "stdout",
     "output_type": "stream",
     "text": [
      "     PassengerId  Survived  Pclass  \\\n",
      "0              1         0       3   \n",
      "1              2         1       1   \n",
      "2              3         1       3   \n",
      "3              4         1       1   \n",
      "4              5         0       3   \n",
      "..           ...       ...     ...   \n",
      "886          887         0       2   \n",
      "887          888         1       1   \n",
      "888          889         0       3   \n",
      "889          890         1       1   \n",
      "890          891         0       3   \n",
      "\n",
      "                                                  Name     Sex   Age  SibSp  \\\n",
      "0                              Braund, Mr. Owen Harris    male  22.0      1   \n",
      "1    Cumings, Mrs. John Bradley (Florence Briggs Th...  female  38.0      1   \n",
      "2                               Heikkinen, Miss. Laina  female  26.0      0   \n",
      "3         Futrelle, Mrs. Jacques Heath (Lily May Peel)  female  35.0      1   \n",
      "4                             Allen, Mr. William Henry    male  35.0      0   \n",
      "..                                                 ...     ...   ...    ...   \n",
      "886                              Montvila, Rev. Juozas    male  27.0      0   \n",
      "887                       Graham, Miss. Margaret Edith  female  19.0      0   \n",
      "888           Johnston, Miss. Catherine Helen \"Carrie\"  female  28.0      1   \n",
      "889                              Behr, Mr. Karl Howell    male  26.0      0   \n",
      "890                                Dooley, Mr. Patrick    male  32.0      0   \n",
      "\n",
      "     Parch  Family  young1cl            Ticket     Fare Cabin Embarked  \n",
      "0        0       2     False         A/5 21171   7.2500    Na        S  \n",
      "1        0       2     False          PC 17599  71.2833   C85        C  \n",
      "2        0       1     False  STON/O2. 3101282   7.9250    Na        S  \n",
      "3        0       2     False            113803  53.1000  C123        S  \n",
      "4        0       1     False            373450   8.0500    Na        S  \n",
      "..     ...     ...       ...               ...      ...   ...      ...  \n",
      "886      0       1     False            211536  13.0000    Na        S  \n",
      "887      0       1      True            112053  30.0000   B42        S  \n",
      "888      2       4     False        W./C. 6607  23.4500    Na        S  \n",
      "889      0       1      True            111369  30.0000  C148        C  \n",
      "890      0       1     False            370376   7.7500    Na        Q  \n",
      "\n",
      "[891 rows x 14 columns]\n"
     ]
    }
   ],
   "source": [
    "df.insert(8, \"Family\", df['SibSp'] + df['Parch'] + 1)\n",
    "df.insert(9, \"young1cl\", (df['Age'] < 30) & (df['Pclass'] == 1) == True) # посчитаем число молодых пассажиров, которые ехали 1-м классом (потенциальные активные капиталовладельцы)\n",
    "print(df)"
   ]
  },
  {
   "cell_type": "markdown",
   "metadata": {},
   "source": [
    "### 22"
   ]
  },
  {
   "cell_type": "markdown",
   "metadata": {},
   "source": [
    "Придумайте какое-нибудь интересное задание на анализ предлагаемых данных и решите его. Например, какая фамилия была самой популярной на корабле?"
   ]
  },
  {
   "cell_type": "code",
   "execution_count": 397,
   "metadata": {},
   "outputs": [
    {
     "name": "stdout",
     "output_type": "stream",
     "text": [
      "Задание: как был связан класс пассажира с наличием родственников на борту? Можно ли сказать, что более обеспеченные люди путешествовали вместе с семьей, в то время как менее обеспеченные - в одиночку?\n",
      "0.004629629629629629\n",
      "0.005434782608695652\n",
      "0.002036659877800407\n",
      "Как видно из выдачи, гипотеза оказалась неверной, и самая высокая доля ббольших семей (более 4 человек) среди пассажиров 2 класса. \n"
     ]
    }
   ],
   "source": [
    "print('Задание: как был связан класс пассажира с наличием родственников на борту? Можно ли сказать, что более обеспеченные люди путешествовали вместе с семьей, в то время как менее обеспеченные - в одиночку?')\n",
    "df.groupby(['Pclass', 'Family']).size()\n",
    "bfshare1 = (len(np.where((df['Family'] > 4) & df['Pclass'] == 1)))/len(df[df['Pclass'] == 1])\n",
    "print(bfshare1)\n",
    "bfshare2 = (len(np.where((df['Family'] > 4) & df['Pclass'] == 2)))/len(df[df['Pclass'] == 2])\n",
    "print(bfshare2)\n",
    "bfshare3 = (len(np.where((df['Family'] > 4) & df['Pclass'] == 3)))/len(df[df['Pclass'] == 3])\n",
    "print(bfshare3)\n",
    "print('Как видно из выдачи, гипотеза оказалась неверной, и самая высокая доля ббольших семей (более 4 человек) среди пассажиров 2 класса. ')"
   ]
  },
  {
   "cell_type": "markdown",
   "metadata": {},
   "source": [
    "### 23"
   ]
  },
  {
   "cell_type": "markdown",
   "metadata": {},
   "source": [
    "Постройте гистограммы распределения вещественных признаков. Есть ли в них разница? Чем это может быть плохо с точки зрения машинного обучения? Отнормируйте вещественные признаки и посмотрите, как изменилась ситуация."
   ]
  },
  {
   "cell_type": "code",
   "execution_count": 381,
   "metadata": {},
   "outputs": [
    {
     "name": "stdout",
     "output_type": "stream",
     "text": [
      "[<matplotlib.axes._subplots.AxesSubplot object at 0x0000021636186508>]\n",
      "[<matplotlib.axes._subplots.AxesSubplot object at 0x000002163622D548>]\n",
      "[<matplotlib.axes._subplots.AxesSubplot object at 0x0000021635D0F408>]\n",
      "[<matplotlib.axes._subplots.AxesSubplot object at 0x00000216360EB808>]\n",
      "[<matplotlib.axes._subplots.AxesSubplot object at 0x00000216361C7208>]\n",
      "[<matplotlib.axes._subplots.AxesSubplot object at 0x0000021635FE8908>]\n",
      "Отнормируем признаки:\n",
      "[<matplotlib.axes._subplots.AxesSubplot object at 0x0000021635BB99C8>]\n",
      "[<matplotlib.axes._subplots.AxesSubplot object at 0x0000021636351888>]\n",
      "[<matplotlib.axes._subplots.AxesSubplot object at 0x000002163637DF48>]\n",
      "[<matplotlib.axes._subplots.AxesSubplot object at 0x0000021633C7B908>]\n",
      "[<matplotlib.axes._subplots.AxesSubplot object at 0x0000021634265AC8>]\n",
      "[<matplotlib.axes._subplots.AxesSubplot object at 0x00000216357B5188>]\n",
      "Отсюда видно, что при нормировании данных одна из гистограмм - распределение цены билета (Fare) - стала выглядеть гораздо правдоподобнее. Остальные гистогаммы не изменились, при этом график распределения Age лучше оставить в первоначальном варианте, т.к. там было указано именно количество пассажиров, а сам график не изменился. С точки зрения машинного обучения, вещественные признаки не всегда отражают реальные числовые расстояния, и поэтому на новых данных рассчитывается не та \"разница\", которая была содержательно заложена в категориях, данных в числовом формате.\n"
     ]
    },
    {
     "data": {
      "image/png": "[encoded data removed]",
      "text/plain": [
       "<Figure size 432x288 with 1 Axes>"
      ]
     },
     "metadata": {
      "needs_background": "light"
     },
     "output_type": "display_data"
    },
    {
     "data": {
      "image/png": "[encoded data removed]",
      "text/plain": [
       "<Figure size 432x288 with 1 Axes>"
      ]
     },
     "metadata": {
      "needs_background": "light"
     },
     "output_type": "display_data"
    },
    {
     "data": {
      "image/png": "[encoded data removed]",
      "text/plain": [
       "<Figure size 432x288 with 1 Axes>"
      ]
     },
     "metadata": {
      "needs_background": "light"
     },
     "output_type": "display_data"
    },
    {
     "data": {
      "image/png": "[encoded data removed]",
      "text/plain": [
       "<Figure size 432x288 with 1 Axes>"
      ]
     },
     "metadata": {
      "needs_background": "light"
     },
     "output_type": "display_data"
    },
    {
     "data": {
      "image/png": "[encoded data removed]",
      "text/plain": [
       "<Figure size 432x288 with 1 Axes>"
      ]
     },
     "metadata": {
      "needs_background": "light"
     },
     "output_type": "display_data"
    },
    {
     "data": {
      "image/png": "[encoded data removed]",
      "text/plain": [
       "<Figure size 432x288 with 1 Axes>"
      ]
     },
     "metadata": {
      "needs_background": "light"
     },
     "output_type": "display_data"
    },
    {
     "data": {
      "image/png": "[encoded data removed]",
      "text/plain": [
       "<Figure size 432x288 with 1 Axes>"
      ]
     },
     "metadata": {
      "needs_background": "light"
     },
     "output_type": "display_data"
    },
    {
     "data": {
      "image/png": "[encoded data removed]",
      "text/plain": [
       "<Figure size 432x288 with 1 Axes>"
      ]
     },
     "metadata": {
      "needs_background": "light"
     },
     "output_type": "display_data"
    },
    {
     "data": {
      "image/png": "[encoded data removed]",
      "text/plain": [
       "<Figure size 432x288 with 1 Axes>"
      ]
     },
     "metadata": {
      "needs_background": "light"
     },
     "output_type": "display_data"
    },
    {
     "data": {
      "image/png": "[encoded data removed]",
      "text/plain": [
       "<Figure size 432x288 with 1 Axes>"
      ]
     },
     "metadata": {
      "needs_background": "light"
     },
     "output_type": "display_data"
    },
    {
     "data": {
      "image/png": "[encoded data removed]",
      "text/plain": [
       "<Figure size 432x288 with 1 Axes>"
      ]
     },
     "metadata": {
      "needs_background": "light"
     },
     "output_type": "display_data"
    },
    {
     "data": {
      "image/png": "[encoded data removed]",
      "text/plain": [
       "<Figure size 432x288 with 1 Axes>"
      ]
     },
     "metadata": {
      "needs_background": "light"
     },
     "output_type": "display_data"
    }
   ],
   "source": [
    "plt.figure()\n",
    "histdist1 = df.Fare.plot(kind='hist', bins = 2, subplots=True, sharex=True, sharey=True, title='Fare', color='#86bf91', figsize = (10, 5))\n",
    "plt.xlabel('Prices')\n",
    "plt.ylabel('Number of passangers')\n",
    "print(histdist1)\n",
    "\n",
    "plt.figure()\n",
    "histdist2 = df.Survived.plot(kind='hist', bins = 2, subplots=True, sharex=True, sharey=True, title='Survived', color='#86bf91')\n",
    "plt.xlabel('Survived')\n",
    "plt.ylabel('Number of passangers')\n",
    "print(histdist2)\n",
    "\n",
    "plt.figure()\n",
    "histdist3 = df.Pclass.plot(kind='hist', subplots=True, sharex=True, sharey=True, title='Passanger class', color='#86bf91')\n",
    "plt.xlabel('Class')\n",
    "plt.ylabel('Number of passangers')\n",
    "print(histdist3)\n",
    "\n",
    "plt.figure()\n",
    "histdist4 = df.SibSp.plot(kind='hist', subplots=True, sharex=True, sharey=True, title='Siblings/Spouses', color='#86bf91')\n",
    "plt.xlabel('Siblings/Spouses')\n",
    "plt.ylabel('Number of passangers')\n",
    "print(histdist4)\n",
    "\n",
    "plt.figure()\n",
    "histdist5 = df.Parch.plot(kind='hist', subplots=True, sharex=True, sharey=True, title='Parents/Children', color='#86bf91')\n",
    "plt.xlabel('Parents/Children')\n",
    "plt.ylabel('Number of passangers')\n",
    "print(histdist5)\n",
    "\n",
    "plt.figure()\n",
    "histdist6 = df.Age.plot(kind='hist', subplots=True, sharex=True, sharey=True, title='Age', color='#86bf91')\n",
    "plt.xlabel('Age')\n",
    "plt.ylabel('Number of passangers')\n",
    "print(histdist6)\n",
    "\n",
    "print('Отнормируем признаки:')\n",
    "plt.figure()\n",
    "histdist1 = df.Fare.plot(kind='hist', subplots=True, sharex=True, sharey=True, density = True, title='Fare', color='#86bf91')\n",
    "plt.xlabel('Prices')\n",
    "plt.ylabel('Number of passangers')\n",
    "print(histdist1)\n",
    "\n",
    "plt.figure()\n",
    "histdist2 = df.Survived.plot(kind='hist', bins = 2, subplots=True, sharex=True, sharey=True, density = True, title='Survived', color='#86bf91')\n",
    "plt.xlabel('Survived')\n",
    "plt.ylabel('Number of passangers')\n",
    "print(histdist2)\n",
    "\n",
    "plt.figure()\n",
    "histdist3 = df.Pclass.plot(kind='hist', subplots=True, sharex=True, sharey=True, density = True, title='Passanger class', color='#86bf91')\n",
    "plt.xlabel('Class')\n",
    "plt.ylabel('Number of passangers')\n",
    "print(histdist3)\n",
    "\n",
    "plt.figure()\n",
    "histdist4 = df.SibSp.plot(kind='hist', subplots=True, sharex=True, sharey=True, density = True, title='Siblings/Spouses', color='#86bf91')\n",
    "plt.xlabel('Siblings/Spouses')\n",
    "plt.ylabel('Number of passangers')\n",
    "print(histdist4)\n",
    "\n",
    "plt.figure()\n",
    "histdist5 = df.Parch.plot(kind='hist', subplots=True, sharex=True, sharey=True, density = True, title='Parents/Children', color='#86bf91')\n",
    "plt.xlabel('Parents/Children')\n",
    "plt.ylabel('Number of passangers')\n",
    "print(histdist5)\n",
    "\n",
    "plt.figure()\n",
    "histdist6 = df.Age.plot(kind='hist', subplots=True, sharex=True, sharey=True, density = True, title='Age', color='#86bf91')\n",
    "plt.xlabel('Age')\n",
    "plt.ylabel('Number of passangers')\n",
    "print(histdist6)\n",
    "\n",
    "print('Отсюда видно, что при нормировании данных одна из гистограмм - распределение цены билета (Fare) - стала выглядеть гораздо правдоподобнее. Остальные гистогаммы не изменились, при этом график распределения Age лучше оставить в первоначальном варианте, т.к. там было указано именно количество пассажиров, а сам график не изменился. С точки зрения машинного обучения, вещественные признаки не всегда отражают реальные числовые расстояния, и поэтому на новых данных рассчитывается не та \"разница\", которая была содержательно заложена в категориях, данных в числовом формате.')"
   ]
  },
  {
   "cell_type": "markdown",
   "metadata": {},
   "source": [
    "### 24"
   ]
  },
  {
   "cell_type": "markdown",
   "metadata": {},
   "source": [
    "Есть ли в данных категориальные признаки, которые принимают значения строк, а не чисел? Если да, то для многих алгоритмов машинного обучения это может стать серьезным препятствием, поэтому закодируйте категориальные признаки так, чтобы к данным можно было применить любые алгоритмы машинного обучения."
   ]
  },
  {
   "cell_type": "code",
   "execution_count": 365,
   "metadata": {},
   "outputs": [
    {
     "name": "stdout",
     "output_type": "stream",
     "text": [
      "     Pclass_1  Pclass_2  Pclass_3\n",
      "0           0         0         1\n",
      "1           1         0         0\n",
      "2           0         0         1\n",
      "3           1         0         0\n",
      "4           0         0         1\n",
      "..        ...       ...       ...\n",
      "886         0         1         0\n",
      "887         1         0         0\n",
      "888         0         0         1\n",
      "889         1         0         0\n",
      "890         0         0         1\n",
      "\n",
      "[891 rows x 3 columns]      Embarked_C  Embarked_Na  Embarked_Q  Embarked_S\n",
      "0             0            0           0           1\n",
      "1             1            0           0           0\n",
      "2             0            0           0           1\n",
      "3             0            0           0           1\n",
      "4             0            0           0           1\n",
      "..          ...          ...         ...         ...\n",
      "886           0            0           0           1\n",
      "887           0            0           0           1\n",
      "888           0            0           0           1\n",
      "889           1            0           0           0\n",
      "890           0            0           1           0\n",
      "\n",
      "[891 rows x 4 columns]      Sex_female  Sex_male\n",
      "0             0         1\n",
      "1             1         0\n",
      "2             1         0\n",
      "3             1         0\n",
      "4             0         1\n",
      "..          ...       ...\n",
      "886           0         1\n",
      "887           1         0\n",
      "888           1         0\n",
      "889           0         1\n",
      "890           0         1\n",
      "\n",
      "[891 rows x 2 columns]\n"
     ]
    }
   ],
   "source": [
    "dumclass = pd.get_dummies(df[\"Pclass\"],prefix=\"Pclass\")\n",
    "dumembark =  pd.get_dummies(df[\"Embarked\"], prefix = \"Embarked\")\n",
    "dumsex = pd.get_dummies(df[\"Sex\"], prefix = \"Sex\")\n",
    "print(dumclass, dumembark, dumsex)"
   ]
  },
  {
   "cell_type": "markdown",
   "metadata": {},
   "source": [
    "## Часть 3. Matplotlib"
   ]
  },
  {
   "cell_type": "markdown",
   "metadata": {},
   "source": [
    "### 25"
   ]
  },
  {
   "cell_type": "markdown",
   "metadata": {},
   "source": [
    "Отобразите гистограмму распределения возрастов для каждого класса пассажиров (здесь опять нужно использовать данные из заданий по pandas). В результате вы должны получить три гистограммы, которые необходимо отобразить рядом друг с другом используя функцию plt.subplots. Каждая гистограмма должна быть нормирована. Обратите внимание на параметры figsize, sharey, sharex функции plt.subplots. Также полезными могут оказаться параметры bins, normed функции plt.hist"
   ]
  },
  {
   "cell_type": "code",
   "execution_count": 374,
   "metadata": {},
   "outputs": [
    {
     "data": {
      "text/plain": [
       "Text(0.5, 0, 'Age')"
      ]
     },
     "execution_count": 374,
     "metadata": {},
     "output_type": "execute_result"
    },
    {
     "data": {
      "image/png": "[encoded data removed]",
      "text/plain": [
       "<Figure size 1440x360 with 3 Axes>"
      ]
     },
     "metadata": {
      "needs_background": "light"
     },
     "output_type": "display_data"
    }
   ],
   "source": [
    "fig, axes = plt.subplots(1, 3, sharey = True, figsize = (20, 5))\n",
    "axes[0].hist(df[df['Pclass'] == 1]['Age'], bins = 20, \n",
    "             ec = 'black', color='#86bf91', density = True)\n",
    "axes[0].set_title('Class 1')\n",
    "axes[0].set_xlabel('Age')\n",
    "axes[0].set_ylabel('Number of passengers (normalized)')\n",
    "axes[1].hist(df[df['Pclass'] == 2]['Age'], bins = 20, \n",
    "             ec = 'black', color='#86bf91', density = True)\n",
    "axes[1].set_title('Class 2')\n",
    "axes[1].set_xlabel('Age')\n",
    "axes[2].hist(df[df['Pclass'] == 3]['Age'], bins = 20, \n",
    "             ec = 'black', color='#86bf91', density = True)\n",
    "axes[2].set_title('Class 3')\n",
    "axes[2].set_xlabel('Age')"
   ]
  },
  {
   "cell_type": "markdown",
   "metadata": {},
   "source": [
    "### 26"
   ]
  },
  {
   "cell_type": "markdown",
   "metadata": {},
   "source": [
    "Нарисуйте график косинуса для `x` от `-1` до `5`. "
   ]
  },
  {
   "cell_type": "code",
   "execution_count": 384,
   "metadata": {},
   "outputs": [
    {
     "data": {
      "image/png": "[encoded data removed]",
      "text/plain": [
       "<Figure size 432x288 with 1 Axes>"
      ]
     },
     "metadata": {
      "needs_background": "light"
     },
     "output_type": "display_data"
    }
   ],
   "source": [
    "x = np.linspace (-1, 5, 100)\n",
    "plt.plot (x, np.cos(x))\n",
    "plt.show()"
   ]
  },
  {
   "cell_type": "markdown",
   "metadata": {},
   "source": [
    "### 27"
   ]
  },
  {
   "cell_type": "markdown",
   "metadata": {},
   "source": [
    "Используя функцию из задания №10 по numpy (gen_data), отобразите на графике сгенерированную выборку, а также настоящую прямую из которой выборка была получена. Добавьте на этот график прямую, которая приближает выборку, обучив для этого простейшую линейную регрессию. Чтобы получить параметры данной прямой, можно выполнить следующий код:\n",
    "\n",
    "        from sklearn.linear_model import LinearRegression as LR\n",
    "\n",
    "        data_x, data_y = gen_data(...)\n",
    "        regr = LR()\n",
    "        regr.fit(data_x, data_y)\n",
    "        k_learned, b_learned = regr.coef_, regr.intercept_"
   ]
  },
  {
   "cell_type": "code",
   "execution_count": 408,
   "metadata": {},
   "outputs": [
    {
     "name": "stdout",
     "output_type": "stream",
     "text": [
      "Requirement already satisfied: seaborn in c:\\users\\user\\anaconda3\\lib\\site-packages (0.9.0)\n",
      "Requirement already satisfied: matplotlib>=1.4.3 in c:\\users\\user\\anaconda3\\lib\\site-packages (from seaborn) (3.1.1)\n",
      "Requirement already satisfied: numpy>=1.9.3 in c:\\users\\user\\anaconda3\\lib\\site-packages (from seaborn) (1.16.5)\n",
      "Requirement already satisfied: scipy>=0.14.0 in c:\\users\\user\\anaconda3\\lib\\site-packages (from seaborn) (1.3.1)\n",
      "Requirement already satisfied: pandas>=0.15.2 in c:\\users\\user\\anaconda3\\lib\\site-packages (from seaborn) (0.25.1)\n",
      "Requirement already satisfied: cycler>=0.10 in c:\\users\\user\\anaconda3\\lib\\site-packages (from matplotlib>=1.4.3->seaborn) (0.10.0)\n",
      "Requirement already satisfied: kiwisolver>=1.0.1 in c:\\users\\user\\anaconda3\\lib\\site-packages (from matplotlib>=1.4.3->seaborn) (1.1.0)\n",
      "Requirement already satisfied: pyparsing!=2.0.4,!=2.1.2,!=2.1.6,>=2.0.1 in c:\\users\\user\\anaconda3\\lib\\site-packages (from matplotlib>=1.4.3->seaborn) (2.4.2)\n",
      "Requirement already satisfied: python-dateutil>=2.1 in c:\\users\\user\\anaconda3\\lib\\site-packages (from matplotlib>=1.4.3->seaborn) (2.8.0)\n",
      "Requirement already satisfied: pytz>=2017.2 in c:\\users\\user\\anaconda3\\lib\\site-packages (from pandas>=0.15.2->seaborn) (2019.3)\n",
      "Requirement already satisfied: six in c:\\users\\user\\anaconda3\\lib\\site-packages (from cycler>=0.10->matplotlib>=1.4.3->seaborn) (1.12.0)\n",
      "Requirement already satisfied: setuptools in c:\\users\\user\\anaconda3\\lib\\site-packages (from kiwisolver>=1.0.1->matplotlib>=1.4.3->seaborn) (41.4.0)\n",
      "Requirement already satisfied: sklearn in c:\\users\\user\\anaconda3\\lib\\site-packages (0.0)\n",
      "Requirement already satisfied: scikit-learn in c:\\users\\user\\anaconda3\\lib\\site-packages (from sklearn) (0.21.3)\n",
      "Requirement already satisfied: numpy>=1.11.0 in c:\\users\\user\\anaconda3\\lib\\site-packages (from scikit-learn->sklearn) (1.16.5)\n",
      "Requirement already satisfied: joblib>=0.11 in c:\\users\\user\\anaconda3\\lib\\site-packages (from scikit-learn->sklearn) (0.13.2)\n",
      "Requirement already satisfied: scipy>=0.17.0 in c:\\users\\user\\anaconda3\\lib\\site-packages (from scikit-learn->sklearn) (1.3.1)\n",
      "[-1.71645873 -0.3599179   0.23143187  0.59929986  1.82964723  1.3681851\n",
      " -0.39452373 -0.58934369  0.45395299  0.45514368  0.55322201 -0.92194741\n",
      "  1.70055582  1.88981718 -1.85643004 -0.80479647  1.33373199  0.36350768\n",
      " -1.44114265 -0.31934397 -1.26398418  0.45593359  1.33705596 -0.51422429\n",
      " -0.85370742  1.38443738 -1.40314427 -0.4145534   1.41775829 -1.26437659\n",
      "  0.81298441 -0.74310208 -0.38807586 -0.12004945 -0.24687235 -1.80345022\n",
      "  1.25084609  0.97564662  0.45136641 -1.94933939 -1.56140855 -1.40045258\n",
      " -1.73213388 -0.33637595 -0.74877491 -1.01418846  0.05820797 -0.03886302\n",
      "  1.37257534 -0.25967174]\n",
      "[-6.59385131e+00 -1.05514495e+00  1.83191118e+00  4.49895123e+00\n",
      "  6.38438163e+00  4.23853579e+00 -3.37913177e+00 -4.54990203e+00\n",
      "  1.71600831e+00  4.01762991e+00  1.73585900e+00 -2.26462739e+00\n",
      "  4.48691620e+00  6.10924147e+00 -5.48975599e+00 -4.46942523e+00\n",
      "  6.47120268e+00  1.50678177e+00 -6.06354347e+00 -2.81810420e+00\n",
      " -5.67483025e+00  3.96283574e+00  6.23970476e+00 -1.12309661e-01\n",
      " -3.73803194e+00  6.23733819e+00 -7.11870535e+00 -1.78117195e+00\n",
      "  8.08320012e+00 -6.20651141e+00  1.12707416e+00 -1.44253223e+00\n",
      " -6.78689879e-03  1.92562438e+00 -2.08537436e+00 -8.59183099e+00\n",
      "  6.54959028e+00  3.41237327e+00  1.40477706e+00 -6.12681384e+00\n",
      " -6.37491096e+00 -6.42984392e+00 -7.08507887e+00 -7.96621907e-01\n",
      " -5.04191316e+00 -4.06404859e+00 -5.90888119e-01 -3.41629215e-01\n",
      "  3.48465916e+00 -1.10883743e+00]\n"
     ]
    },
    {
     "data": {
      "text/plain": [
       "Text(0, 0.5, 'y')"
      ]
     },
     "execution_count": 408,
     "metadata": {},
     "output_type": "execute_result"
    },
    {
     "data": {
      "image/png": "[encoded data removed]",
      "text/plain": [
       "<Figure size 432x288 with 1 Axes>"
      ]
     },
     "metadata": {
      "needs_background": "light"
     },
     "output_type": "display_data"
    }
   ],
   "source": [
    "!pip install seaborn\n",
    "!pip install sklearn\n",
    "import seaborn as sns\n",
    "from sklearn.linear_model import LinearRegression as LR\n",
    "\n",
    "data_x, data_y = gen_data((-2, 2), 4, 0, 50, 2.5)\n",
    "print(data_x)\n",
    "print(data_y)\n",
    "data_xnew = data_x.reshape(-1, 1)\n",
    "data_ynew = data_y.reshape(-1, 1)\n",
    "regr = LR()\n",
    "regr.fit(data_xnew, data_ynew)\n",
    "k_learned, b_learned = regr.coef_, regr.intercept_\n",
    "\n",
    "data_x, data_y = gen_data((-2, 2), 5, 1, 60, 2)\n",
    "data_xnew = data_x.reshape(-1, 1)\n",
    "data_ynew = data_y.reshape(-1, 1)\n",
    "plt.plot(data_xnew, 3*data_xnew, color = '#86bf91', linewidth = 2)\n",
    "plt.plot(data_xnew, b_learned + k_learned*data_xnew, color = 'orange', linewidth = 2)\n",
    "plt.scatter(data_xnew, data_ynew, s = 30, color = 'black')\n",
    "plt.xlabel('x')\n",
    "plt.ylabel('y')"
   ]
  }
 ],
 "metadata": {
  "kernelspec": {
   "display_name": "Python 3",
   "language": "python",
   "name": "python3"
  },
  "language_info": {
   "codemirror_mode": {
    "name": "ipython",
    "version": 3
   },
   "file_extension": ".py",
   "mimetype": "text/x-python",
   "name": "python",
   "nbconvert_exporter": "python",
   "pygments_lexer": "ipython3",
   "version": "3.7.4"
  }
 },
 "nbformat": 4,
 "nbformat_minor": 2
}
